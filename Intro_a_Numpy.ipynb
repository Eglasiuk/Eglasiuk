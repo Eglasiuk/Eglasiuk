{
  "cells": [
    {
      "cell_type": "markdown",
      "metadata": {
        "id": "view-in-github",
        "colab_type": "text"
      },
      "source": [
        "<a href=\"https://colab.research.google.com/github/Eglasiuk/Eglasiuk/blob/main/Intro_a_Numpy.ipynb\" target=\"_parent\"><img src=\"https://colab.research.google.com/assets/colab-badge.svg\" alt=\"Open In Colab\"/></a>"
      ]
    },
    {
      "cell_type": "code",
      "execution_count": null,
      "metadata": {
        "id": "bZY1R_zBWRG-",
        "outputId": "fa499314-a9a3-4eaf-8d62-dccd2e51ac23"
      },
      "outputs": [
        {
          "name": "stdout",
          "output_type": "stream",
          "text": [
            "1.20.3\n"
          ]
        }
      ],
      "source": [
        "import sys\n",
        "\n",
        "import numpy as np\n",
        "print(np.__version__)"
      ]
    },
    {
      "cell_type": "markdown",
      "metadata": {
        "id": "CQGm8UUCWRHB"
      },
      "source": [
        "# Creación de numpy arrays"
      ]
    },
    {
      "cell_type": "code",
      "execution_count": null,
      "metadata": {
        "id": "QAlSaK7VWRHD",
        "outputId": "dfac3087-897e-407c-9f58-1bf845dfd787"
      },
      "outputs": [
        {
          "data": {
            "text/plain": [
              "numpy.ndarray"
            ]
          },
          "execution_count": 2,
          "metadata": {},
          "output_type": "execute_result"
        }
      ],
      "source": [
        "array_1d = np.array([4,5, 3])\n",
        "type(array_1d)"
      ]
    },
    {
      "cell_type": "code",
      "execution_count": null,
      "metadata": {
        "id": "F8_1pz6rWRHE",
        "outputId": "27790a85-ac49-47fc-f579-1a77da05fb13"
      },
      "outputs": [
        {
          "data": {
            "text/plain": [
              "(3,)"
            ]
          },
          "execution_count": 3,
          "metadata": {},
          "output_type": "execute_result"
        }
      ],
      "source": [
        "array_1d.shape"
      ]
    },
    {
      "cell_type": "code",
      "execution_count": null,
      "metadata": {
        "id": "__LFmkeRWRHF",
        "outputId": "91f60ca3-4f68-443d-a6e4-a2ecad360049"
      },
      "outputs": [
        {
          "data": {
            "text/plain": [
              "1"
            ]
          },
          "execution_count": 4,
          "metadata": {},
          "output_type": "execute_result"
        }
      ],
      "source": [
        "array_1d.ndim"
      ]
    },
    {
      "cell_type": "code",
      "execution_count": null,
      "metadata": {
        "id": "VWtmTqJiWRHF",
        "outputId": "9c51ba17-0ee8-4867-997f-a26146923989"
      },
      "outputs": [
        {
          "data": {
            "text/plain": [
              "array([[ 1,  2,  1],\n",
              "       [ 5, 43,  5]])"
            ]
          },
          "execution_count": 5,
          "metadata": {},
          "output_type": "execute_result"
        }
      ],
      "source": [
        "matriz = np.array([\n",
        "    [ 1,2, 1 ],\n",
        "    [5, 43, 5]\n",
        "])\n",
        "\n",
        "matriz"
      ]
    },
    {
      "cell_type": "code",
      "execution_count": null,
      "metadata": {
        "id": "Sb9CXN6kWRHG",
        "outputId": "1fa2b73e-67bd-433f-e1b8-1719deb0a20a"
      },
      "outputs": [
        {
          "data": {
            "text/plain": [
              "(2, 3)"
            ]
          },
          "execution_count": 6,
          "metadata": {},
          "output_type": "execute_result"
        }
      ],
      "source": [
        "matriz.shape"
      ]
    },
    {
      "cell_type": "code",
      "execution_count": null,
      "metadata": {
        "id": "BimTT9S9WRHG",
        "outputId": "1aaa813b-ed32-495f-9042-b1ee338f74bb"
      },
      "outputs": [
        {
          "data": {
            "text/plain": [
              "2"
            ]
          },
          "execution_count": 7,
          "metadata": {},
          "output_type": "execute_result"
        }
      ],
      "source": [
        "matriz.ndim"
      ]
    },
    {
      "cell_type": "markdown",
      "metadata": {
        "id": "_KW_aQTuWRHH"
      },
      "source": [
        "`np.eye` crea una matriz identidad de tamaño 3x3"
      ]
    },
    {
      "cell_type": "code",
      "execution_count": null,
      "metadata": {
        "id": "UliXetXpWRHH",
        "outputId": "8b73f99a-4a3b-4041-8af7-b94b78c7fd9b"
      },
      "outputs": [
        {
          "data": {
            "text/plain": [
              "array([[1., 0., 0.],\n",
              "       [0., 1., 0.],\n",
              "       [0., 0., 1.]])"
            ]
          },
          "execution_count": 8,
          "metadata": {},
          "output_type": "execute_result"
        }
      ],
      "source": [
        "np.eye(3)"
      ]
    },
    {
      "cell_type": "markdown",
      "metadata": {
        "id": "FtLT2xnWWRHI"
      },
      "source": [
        "`np.zeros` crea un array con todos los valores a 0"
      ]
    },
    {
      "cell_type": "code",
      "execution_count": null,
      "metadata": {
        "id": "1Swb8xKRWRHI",
        "outputId": "a4861a43-5d1d-4f71-ba6e-580626eb9d29"
      },
      "outputs": [
        {
          "data": {
            "text/plain": [
              "array([[0., 0.],\n",
              "       [0., 0.],\n",
              "       [0., 0.]])"
            ]
          },
          "execution_count": 9,
          "metadata": {},
          "output_type": "execute_result"
        }
      ],
      "source": [
        "np.zeros((3,2))"
      ]
    },
    {
      "cell_type": "markdown",
      "metadata": {
        "id": "aPztBXv6WRHI"
      },
      "source": [
        "`np.ones` crea un vector de longitud 3 inicializado con todos los valores 1 (${\\vec {1}}$)"
      ]
    },
    {
      "cell_type": "code",
      "execution_count": null,
      "metadata": {
        "id": "8Xg5g7kPWRHJ",
        "outputId": "f8cb6417-8d6c-4582-e350-2d3459f7472e"
      },
      "outputs": [
        {
          "data": {
            "text/plain": [
              "array([1., 1., 1.])"
            ]
          },
          "execution_count": 10,
          "metadata": {},
          "output_type": "execute_result"
        }
      ],
      "source": [
        "np.ones(3)"
      ]
    },
    {
      "cell_type": "markdown",
      "metadata": {
        "id": "90F3mJQcWRHJ"
      },
      "source": [
        "`np.random` produce un array con valores aleatorios en el intervalo [0, 1)"
      ]
    },
    {
      "cell_type": "code",
      "execution_count": null,
      "metadata": {
        "id": "Xw2VerjWWRHJ",
        "outputId": "8cc6f4cf-15e6-4552-801a-ab653e548ec4"
      },
      "outputs": [
        {
          "data": {
            "text/plain": [
              "array([[0.84161878, 0.32426274, 0.84108528],\n",
              "       [0.69883733, 0.92716129, 0.2214295 ]])"
            ]
          },
          "execution_count": 11,
          "metadata": {},
          "output_type": "execute_result"
        }
      ],
      "source": [
        "np.random.random((2,3))"
      ]
    },
    {
      "cell_type": "markdown",
      "metadata": {
        "id": "BomiG6xlWRHJ"
      },
      "source": [
        "podemos leer tambien texto y convertirlo en un np.array"
      ]
    },
    {
      "cell_type": "code",
      "execution_count": null,
      "metadata": {
        "id": "EBtxy6smWRHK",
        "outputId": "31496307-8668-4e36-8290-70f57a15db45"
      },
      "outputs": [
        {
          "name": "stdout",
          "output_type": "stream",
          "text": [
            "1,2,3\r\n",
            "43, 2,3\r\n",
            "34,1,1\r\n",
            "0,1,1"
          ]
        }
      ],
      "source": [
        "!cat np_text.txt"
      ]
    },
    {
      "cell_type": "code",
      "execution_count": null,
      "metadata": {
        "id": "JwApbOkmWRHK",
        "outputId": "15232869-6c4a-425d-da98-2ec05f9313dc"
      },
      "outputs": [
        {
          "data": {
            "text/plain": [
              "array([[ 1.,  2.,  3.],\n",
              "       [43.,  2.,  3.],\n",
              "       [34.,  1.,  1.],\n",
              "       [ 0.,  1.,  1.]])"
            ]
          },
          "execution_count": 13,
          "metadata": {},
          "output_type": "execute_result"
        }
      ],
      "source": [
        "np_text = np.genfromtxt(\"np_text.txt\", delimiter=\",\")\n",
        "np_text"
      ]
    },
    {
      "cell_type": "markdown",
      "metadata": {
        "id": "SuKAMyUSWRHK"
      },
      "source": [
        "# Ventajas de np.array versus lists"
      ]
    },
    {
      "cell_type": "code",
      "execution_count": null,
      "metadata": {
        "id": "itaHFuVwWRHK"
      },
      "outputs": [],
      "source": [
        "array_1d = np.array([1,2,3])"
      ]
    },
    {
      "cell_type": "code",
      "execution_count": null,
      "metadata": {
        "id": "kvoAHEaQWRHL",
        "outputId": "e46715dd-bf87-4063-9096-54a76a1184f3"
      },
      "outputs": [
        {
          "data": {
            "text/plain": [
              "(3,)"
            ]
          },
          "execution_count": 15,
          "metadata": {},
          "output_type": "execute_result"
        }
      ],
      "source": [
        "array_1d.shape"
      ]
    },
    {
      "cell_type": "code",
      "execution_count": null,
      "metadata": {
        "id": "UI2xa_G-WRHL",
        "outputId": "a183f41e-119f-4eb5-a251-81762b8c5829"
      },
      "outputs": [
        {
          "name": "stdout",
          "output_type": "stream",
          "text": [
            "Tamaño de la lista en memoria: 72 bytes\n",
            "Tamaño del numpy array en memoria: 168 bytes\n"
          ]
        }
      ],
      "source": [
        "lista_2d = [[1222,2222,2223], [5,23,40004]]\n",
        "\n",
        "array_2d = np.array([[1222,2222,2223], [5,23,40004]])\n",
        "\n",
        "print(\"Tamaño de la lista en memoria: {} bytes\".format(sys.getsizeof(lista_2d)))\n",
        "print(\"Tamaño del numpy array en memoria: {} bytes\".format(sys.getsizeof(array_2d)))"
      ]
    },
    {
      "cell_type": "markdown",
      "metadata": {
        "id": "I7SXYbT3WRHL"
      },
      "source": [
        "No obstante, cuando trabajamos con cantidades grandes, numpy empieza a funcionar mejor"
      ]
    },
    {
      "cell_type": "code",
      "execution_count": null,
      "metadata": {
        "id": "sgqr4r6zWRHL",
        "outputId": "7591c006-89d9-4c99-dcca-fe8433225c70"
      },
      "outputs": [
        {
          "name": "stdout",
          "output_type": "stream",
          "text": [
            "Tamaño de la lista en memoria: 800000056 bytes\n",
            "Tamaño del numpy array en memoria: 800000104 bytes\n"
          ]
        }
      ],
      "source": [
        "big_list = list(range(100000000))\n",
        "big_array = np.array(range(100000000))\n",
        "\n",
        "print(\"Tamaño de la lista en memoria: {} bytes\".format(sys.getsizeof(big_list)))\n",
        "print(\"Tamaño del numpy array en memoria: {} bytes\".format(sys.getsizeof(big_array)))"
      ]
    },
    {
      "cell_type": "markdown",
      "metadata": {
        "id": "WEOsGabQWRHM"
      },
      "source": [
        "`%%timeit` es un magic de jupyter que evalua el tiempo que tarda una celda en computar, al pasarle el parámetro -n=10 le decimos que queremos que  mida el tiempo corriendo el código 10 veces"
      ]
    },
    {
      "cell_type": "code",
      "execution_count": null,
      "metadata": {
        "id": "xJ6PYw6HWRHM",
        "outputId": "fe82baf5-6963-4417-d948-9646d9dccc18"
      },
      "outputs": [
        {
          "name": "stdout",
          "output_type": "stream",
          "text": [
            "204 ms ± 9.17 ms per loop (mean ± std. dev. of 7 runs, 10 loops each)\n"
          ]
        }
      ],
      "source": [
        "%%timeit -n 10\n",
        "sum(range(10000000))"
      ]
    },
    {
      "cell_type": "code",
      "execution_count": null,
      "metadata": {
        "id": "cGbveE9vWRHM",
        "outputId": "fc291f71-43bb-45b0-cc39-0f10837a432b"
      },
      "outputs": [
        {
          "name": "stdout",
          "output_type": "stream",
          "text": [
            "23.4 ms ± 1.46 ms per loop (mean ± std. dev. of 7 runs, 10 loops each)\n"
          ]
        }
      ],
      "source": [
        "%%timeit -n 10\n",
        "np.sum(np.arange(10000000))"
      ]
    },
    {
      "cell_type": "markdown",
      "metadata": {
        "id": "o5QArMeVWRHM"
      },
      "source": [
        "Vemos que la operación con np.arrays es 10x más rápida"
      ]
    },
    {
      "cell_type": "markdown",
      "metadata": {
        "id": "_FxGBLa9WRHM"
      },
      "source": [
        "Para poder utilizar todo el potencial de utilizacion numerica de numpy, todos los elementos del numpy array tienen que ser del mismo tipo, si no lo son, numpy intenta convertir los elementos a un sólo tipo. Numpy hace eso para poder hacer operaciones vectorizadas."
      ]
    },
    {
      "cell_type": "code",
      "execution_count": null,
      "metadata": {
        "id": "7KVvpTEkWRHM",
        "outputId": "b2955af1-f33c-41d7-89fe-c60f2c10d565"
      },
      "outputs": [
        {
          "data": {
            "text/plain": [
              "array([1. , 5.4])"
            ]
          },
          "execution_count": 23,
          "metadata": {},
          "output_type": "execute_result"
        }
      ],
      "source": [
        "np.array([1.0, 5.4])"
      ]
    },
    {
      "cell_type": "code",
      "execution_count": null,
      "metadata": {
        "id": "dCwG7qORWRHN",
        "outputId": "5d6ba1a8-70d0-4a8b-a9a0-0576769cdab0"
      },
      "outputs": [
        {
          "data": {
            "text/plain": [
              "array([1. , 3.9])"
            ]
          },
          "execution_count": 24,
          "metadata": {},
          "output_type": "execute_result"
        }
      ],
      "source": [
        "np.array([1, 3.9])"
      ]
    },
    {
      "cell_type": "markdown",
      "metadata": {
        "id": "eLjGlmCqWRHN"
      },
      "source": [
        "hacemos `dtype` para ver el tipo de datos que almacena el array."
      ]
    },
    {
      "cell_type": "code",
      "execution_count": null,
      "metadata": {
        "id": "d_HRU0wXWRHN",
        "outputId": "ba76904b-98d6-426e-db35-09393fe58bcc"
      },
      "outputs": [
        {
          "data": {
            "text/plain": [
              "dtype('float64')"
            ]
          },
          "execution_count": 25,
          "metadata": {},
          "output_type": "execute_result"
        }
      ],
      "source": [
        "np.array([1, 3.9]).dtype"
      ]
    },
    {
      "cell_type": "code",
      "execution_count": null,
      "metadata": {
        "id": "vp3ExsEkWRHN",
        "outputId": "88a02863-a56f-47fb-c903-b9e3743c5ce4"
      },
      "outputs": [
        {
          "data": {
            "text/plain": [
              "array(['1', '1'], dtype='<U21')"
            ]
          },
          "execution_count": 26,
          "metadata": {},
          "output_type": "execute_result"
        }
      ],
      "source": [
        "np.array([1, \"1\"])"
      ]
    },
    {
      "cell_type": "markdown",
      "metadata": {
        "id": "DbJuGX2fWRHN"
      },
      "source": [
        "Si no puede optimizar un array, numpy lo creara con el tipo `object`, en el que trabajara simplemente con objetos de python."
      ]
    },
    {
      "cell_type": "code",
      "execution_count": null,
      "metadata": {
        "id": "8ZygGci7WRHO",
        "outputId": "1e60cf87-09cc-409f-a94f-6a7c5282f442"
      },
      "outputs": [
        {
          "data": {
            "text/plain": [
              "array([1, datetime.datetime(2021, 5, 22, 17, 13, 30, 413378)],\n",
              "      dtype=object)"
            ]
          },
          "execution_count": 27,
          "metadata": {},
          "output_type": "execute_result"
        }
      ],
      "source": [
        "from datetime import datetime\n",
        "\n",
        "np.array([1, datetime.utcnow()])"
      ]
    },
    {
      "cell_type": "code",
      "execution_count": null,
      "metadata": {
        "id": "BH3GvB4OWRHO",
        "outputId": "c7193251-7044-4f81-f0fc-646215fe549a"
      },
      "outputs": [
        {
          "name": "stdout",
          "output_type": "stream",
          "text": [
            "2.6 s ± 127 ms per loop (mean ± std. dev. of 7 runs, 1 loop each)\n"
          ]
        }
      ],
      "source": [
        "%%timeit\n",
        "[\"{}\".format(i) for i in range(10000000)]"
      ]
    },
    {
      "cell_type": "code",
      "execution_count": null,
      "metadata": {
        "id": "42N2r-NCWRHO"
      },
      "outputs": [],
      "source": [
        "f = np.vectorize(lambda x: \"{}\".format(x))"
      ]
    },
    {
      "cell_type": "code",
      "execution_count": null,
      "metadata": {
        "id": "LhoNdie4WRHO",
        "outputId": "f74c9517-992f-4359-8f9f-8c34bdc0e1e5"
      },
      "outputs": [
        {
          "name": "stdout",
          "output_type": "stream",
          "text": [
            "5.12 s ± 775 ms per loop (mean ± std. dev. of 7 runs, 1 loop each)\n"
          ]
        }
      ],
      "source": [
        "%%timeit\n",
        "f(np.arange(10000000))"
      ]
    },
    {
      "cell_type": "code",
      "execution_count": null,
      "metadata": {
        "id": "C_k658L5WRHO",
        "outputId": "2144bffa-b623-4a3a-eea4-7133ee554db4"
      },
      "outputs": [
        {
          "name": "stdout",
          "output_type": "stream",
          "text": [
            "4.34 s ± 225 ms per loop (mean ± std. dev. of 7 runs, 1 loop each)\n"
          ]
        }
      ],
      "source": [
        "%%timeit\n",
        "[\"{}\".format(i) for i in np.arange(10000000)]"
      ]
    },
    {
      "cell_type": "markdown",
      "metadata": {
        "id": "P2PgMdtDWRHO"
      },
      "source": [
        "# Seleccion por secciones y por indices (slicing e indexing)"
      ]
    },
    {
      "cell_type": "code",
      "execution_count": null,
      "metadata": {
        "id": "xEYvVXHfWRHP",
        "outputId": "a31af626-b6cb-4209-9f3f-b0594f03066b"
      },
      "outputs": [
        {
          "data": {
            "text/plain": [
              "array([[ 1,  2,  3,  4],\n",
              "       [ 5,  6,  7,  8],\n",
              "       [ 9, 10, 11, 12]])"
            ]
          },
          "execution_count": 35,
          "metadata": {},
          "output_type": "execute_result"
        }
      ],
      "source": [
        "matriz_34 = np.array([[1,2,3,4], [5,6,7,8], [9,10,11,12]])\n",
        "matriz_34"
      ]
    },
    {
      "cell_type": "markdown",
      "metadata": {
        "id": "cSh6jhSMWRHP"
      },
      "source": [
        "obtenemos la primera fila igual que con una lista normal"
      ]
    },
    {
      "cell_type": "code",
      "execution_count": null,
      "metadata": {
        "id": "Dwyz-Mx3WRHP",
        "outputId": "89e8c3b7-f63d-4df0-f2f9-f8b8bcefabdd"
      },
      "outputs": [
        {
          "data": {
            "text/plain": [
              "array([1, 2, 3, 4])"
            ]
          },
          "execution_count": 36,
          "metadata": {},
          "output_type": "execute_result"
        }
      ],
      "source": [
        "matriz_34[0]"
      ]
    },
    {
      "cell_type": "markdown",
      "metadata": {
        "id": "YaWniNtWWRHP"
      },
      "source": [
        "seleccionamos la 1 y 2 fila"
      ]
    },
    {
      "cell_type": "code",
      "execution_count": null,
      "metadata": {
        "id": "e1U1z3bZWRHP",
        "outputId": "45d61090-98f6-4f10-dc7f-11747c8db7b0"
      },
      "outputs": [
        {
          "data": {
            "text/plain": [
              "array([[1, 2, 3, 4],\n",
              "       [5, 6, 7, 8]])"
            ]
          },
          "execution_count": 37,
          "metadata": {},
          "output_type": "execute_result"
        }
      ],
      "source": [
        "matriz_34[:2]"
      ]
    },
    {
      "cell_type": "markdown",
      "metadata": {
        "id": "iR82-T78WRHP"
      },
      "source": [
        "Seleccionamos el 2 elemento de cada fila (o sea, la segunda columna de la matriz)"
      ]
    },
    {
      "cell_type": "code",
      "execution_count": null,
      "metadata": {
        "id": "Vl5gv_BtWRHQ",
        "outputId": "13ed9fcc-e9ff-4e10-9af1-cb0f85dac409"
      },
      "outputs": [
        {
          "data": {
            "text/plain": [
              "array([ 2,  6, 10])"
            ]
          },
          "execution_count": 38,
          "metadata": {},
          "output_type": "execute_result"
        }
      ],
      "source": [
        "matriz_34[:,1]"
      ]
    },
    {
      "cell_type": "markdown",
      "metadata": {
        "id": "9Eik7y1hWRHQ"
      },
      "source": [
        "al seleccionar secciones no obtenemos copias, sino referencias al mismo array"
      ]
    },
    {
      "cell_type": "code",
      "execution_count": null,
      "metadata": {
        "id": "YlTKvoSpWRHQ",
        "outputId": "7c1fc5b4-44a7-43dd-a42c-19e3c0c200cb"
      },
      "outputs": [
        {
          "data": {
            "text/plain": [
              "array([[1, 2, 3, 4],\n",
              "       [5, 6, 7, 8]])"
            ]
          },
          "execution_count": 39,
          "metadata": {},
          "output_type": "execute_result"
        }
      ],
      "source": [
        "seccion = matriz_34[:2,:]\n",
        "seccion"
      ]
    },
    {
      "cell_type": "code",
      "execution_count": null,
      "metadata": {
        "id": "Cs3l5gZSWRHQ",
        "outputId": "36188131-9f80-459f-df80-72ae1491c8c8"
      },
      "outputs": [
        {
          "name": "stdout",
          "output_type": "stream",
          "text": [
            "2\n"
          ]
        },
        {
          "data": {
            "text/plain": [
              "array([[ 0,  2,  3,  4],\n",
              "       [ 5,  6,  7,  8],\n",
              "       [ 9, 10, 11, 12]])"
            ]
          },
          "execution_count": 40,
          "metadata": {},
          "output_type": "execute_result"
        }
      ],
      "source": [
        "print(matriz_34[0,1])\n",
        "seccion[0, 0] = 0\n",
        "matriz_34"
      ]
    },
    {
      "cell_type": "markdown",
      "metadata": {
        "id": "nQqFQ9uRWRHQ"
      },
      "source": [
        "Sin embargo, al seleccionar un elemento esto no pasa"
      ]
    },
    {
      "cell_type": "code",
      "execution_count": null,
      "metadata": {
        "id": "FWWWO0e3WRHQ",
        "outputId": "0691a0b0-3323-45ef-fbe7-dbe71b2b8b91"
      },
      "outputs": [
        {
          "name": "stdout",
          "output_type": "stream",
          "text": [
            "8\n"
          ]
        },
        {
          "data": {
            "text/plain": [
              "array([[ 0,  2,  3,  4],\n",
              "       [ 5,  6,  7,  8],\n",
              "       [ 9, 10, 11, 12]])"
            ]
          },
          "execution_count": 41,
          "metadata": {},
          "output_type": "execute_result"
        }
      ],
      "source": [
        "seleccion = matriz_34[1,3]\n",
        "print(seleccion)\n",
        "seleccion = 100\n",
        "matriz_34"
      ]
    },
    {
      "cell_type": "markdown",
      "metadata": {
        "id": "O-7K_-_aWRHR"
      },
      "source": [
        "# Filtrado"
      ]
    },
    {
      "cell_type": "code",
      "execution_count": null,
      "metadata": {
        "id": "Vr5oiO7FWRHR",
        "outputId": "421f2a53-5cf5-42c4-82ec-9a99bb68208a"
      },
      "outputs": [
        {
          "data": {
            "text/plain": [
              "array([[1, 4],\n",
              "       [2, 4],\n",
              "       [5, 0]])"
            ]
          },
          "execution_count": 42,
          "metadata": {},
          "output_type": "execute_result"
        }
      ],
      "source": [
        "matriz_32 = np.array([[1, 4], [2, 4], [5, 0]])\n",
        "matriz_32"
      ]
    },
    {
      "cell_type": "code",
      "execution_count": null,
      "metadata": {
        "id": "yFlYjyLZWRHR",
        "outputId": "f610ae5b-ce05-4bd6-da2a-ca6040bfe4db"
      },
      "outputs": [
        {
          "data": {
            "text/plain": [
              "array([[False,  True],\n",
              "       [ True,  True],\n",
              "       [ True, False]])"
            ]
          },
          "execution_count": 43,
          "metadata": {},
          "output_type": "execute_result"
        }
      ],
      "source": [
        "indice_fitrado = (matriz_32 >= 2)\n",
        "indice_fitrado"
      ]
    },
    {
      "cell_type": "code",
      "execution_count": null,
      "metadata": {
        "id": "vxb_s3VtWRHR",
        "outputId": "580ab1af-4202-49d2-e875-7d812765f358"
      },
      "outputs": [
        {
          "data": {
            "text/plain": [
              "array([4, 2, 4, 5])"
            ]
          },
          "execution_count": 44,
          "metadata": {},
          "output_type": "execute_result"
        }
      ],
      "source": [
        "matriz_32[indice_fitrado]"
      ]
    },
    {
      "cell_type": "markdown",
      "metadata": {
        "id": "0l_qn8gqWRHR"
      },
      "source": [
        "## Aritmetica con numpy arrays"
      ]
    },
    {
      "cell_type": "code",
      "execution_count": null,
      "metadata": {
        "id": "uo5N-bmtWRHR",
        "outputId": "77de23ae-2b8e-4052-ca21-61775c891f74"
      },
      "outputs": [
        {
          "name": "stdout",
          "output_type": "stream",
          "text": [
            "[[2 3]\n",
            " [0 1]]\n",
            "[[23  6]\n",
            " [ 0 42]]\n"
          ]
        }
      ],
      "source": [
        "array1 = np.array([[2,3],[0,1]])\n",
        "array2 = np.array([[23,6],[0,42]])\n",
        "\n",
        "print(array1)\n",
        "print(array2)"
      ]
    },
    {
      "cell_type": "markdown",
      "metadata": {
        "id": "Fn0yvydwWRHS"
      },
      "source": [
        "suma elemento a elemento"
      ]
    },
    {
      "cell_type": "code",
      "execution_count": null,
      "metadata": {
        "id": "1fNxYCVhWRHS",
        "outputId": "4b2e65c0-3dd6-49ff-9979-4b09b7790a23"
      },
      "outputs": [
        {
          "data": {
            "text/plain": [
              "array([[25,  9],\n",
              "       [ 0, 43]])"
            ]
          },
          "execution_count": 46,
          "metadata": {},
          "output_type": "execute_result"
        }
      ],
      "source": [
        "array1 + array2"
      ]
    },
    {
      "cell_type": "markdown",
      "metadata": {
        "id": "EfEhU_zBWRHS"
      },
      "source": [
        "multiplicación elemento a elemento"
      ]
    },
    {
      "cell_type": "code",
      "execution_count": null,
      "metadata": {
        "id": "U1bfqCrGWRHS",
        "outputId": "4afa78e5-b4b2-408b-a376-36d4da135419"
      },
      "outputs": [
        {
          "data": {
            "text/plain": [
              "array([[46, 18],\n",
              "       [ 0, 42]])"
            ]
          },
          "execution_count": 47,
          "metadata": {},
          "output_type": "execute_result"
        }
      ],
      "source": [
        "array1 * array2"
      ]
    },
    {
      "cell_type": "markdown",
      "metadata": {
        "id": "gwA0ZxzFWRHS"
      },
      "source": [
        "Desde python 3.5, podemos usar el simbolo `@` para indicar una multiplicación de matrices (para versiones anteriores se usa la funcion `dot`"
      ]
    },
    {
      "cell_type": "code",
      "execution_count": null,
      "metadata": {
        "id": "x4pW9Wu7WRHS",
        "outputId": "740598f7-ccb5-4da0-d268-426c62ede884"
      },
      "outputs": [
        {
          "data": {
            "text/plain": [
              "array([[ 46, 138],\n",
              "       [  0,  42]])"
            ]
          },
          "execution_count": 48,
          "metadata": {},
          "output_type": "execute_result"
        }
      ],
      "source": [
        "array1 @ array2"
      ]
    },
    {
      "cell_type": "markdown",
      "metadata": {
        "id": "SaiwpugmWRHS"
      },
      "source": [
        "equivale a "
      ]
    },
    {
      "cell_type": "code",
      "execution_count": null,
      "metadata": {
        "id": "Q9c61D_AWRHT",
        "outputId": "78b25548-22fe-4875-d4b6-008850d72816"
      },
      "outputs": [
        {
          "data": {
            "text/plain": [
              "array([[ 46, 138],\n",
              "       [  0,  42]])"
            ]
          },
          "execution_count": 49,
          "metadata": {},
          "output_type": "execute_result"
        }
      ],
      "source": [
        "array1.dot(array2)"
      ]
    },
    {
      "cell_type": "markdown",
      "metadata": {
        "id": "arOVOepEWRHT"
      },
      "source": [
        "# Links"
      ]
    },
    {
      "cell_type": "markdown",
      "metadata": {
        "id": "c-nE_s1MWRHT"
      },
      "source": [
        "https://docs.scipy.org/doc/numpy-dev/user/quickstart.html\n",
        "\n",
        "https://www.quantopian.com/posts/quantopian-lecture-series-introduction-to-numpy\n",
        "\n",
        "https://www.datacamp.com/community/tutorials/python-numpy-tutorial#gs.HwYuvYI"
      ]
    },
    {
      "cell_type": "code",
      "execution_count": null,
      "metadata": {
        "collapsed": true,
        "id": "7ZtZMopyWRHT"
      },
      "outputs": [],
      "source": []
    }
  ],
  "metadata": {
    "kernelspec": {
      "display_name": "Python 3",
      "language": "python",
      "name": "python3"
    },
    "language_info": {
      "codemirror_mode": {
        "name": "ipython",
        "version": 3
      },
      "file_extension": ".py",
      "mimetype": "text/x-python",
      "name": "python",
      "nbconvert_exporter": "python",
      "pygments_lexer": "ipython3",
      "version": "3.9.4"
    },
    "colab": {
      "provenance": [],
      "include_colab_link": true
    }
  },
  "nbformat": 4,
  "nbformat_minor": 0
}